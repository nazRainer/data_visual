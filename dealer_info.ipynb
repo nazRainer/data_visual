{
  "nbformat": 4,
  "nbformat_minor": 0,
  "metadata": {
    "colab": {
      "name": "dealer info.ipynb",
      "provenance": [],
      "authorship_tag": "ABX9TyMwmZhDDc8VCiRbyS4Mo79s",
      "include_colab_link": true
    },
    "kernelspec": {
      "name": "python3",
      "display_name": "Python 3"
    },
    "language_info": {
      "name": "python"
    }
  },
  "cells": [
    {
      "cell_type": "markdown",
      "metadata": {
        "id": "view-in-github",
        "colab_type": "text"
      },
      "source": [
        "<a href=\"https://colab.research.google.com/github/nazRainer/data_visual/blob/main/dealer_info.ipynb\" target=\"_parent\"><img src=\"https://colab.research.google.com/assets/colab-badge.svg\" alt=\"Open In Colab\"/></a>"
      ]
    },
    {
      "cell_type": "code",
      "metadata": {
        "id": "QUpMW7bR11pT"
      },
      "source": [
        "import pandas as pd\n",
        "import matplotlib.pyplot as plt"
      ],
      "execution_count": 2,
      "outputs": []
    },
    {
      "cell_type": "code",
      "metadata": {
        "colab": {
          "base_uri": "https://localhost:8080/",
          "height": 622
        },
        "id": "d4be-UFB2Ac5",
        "outputId": "cd1e8554-85f9-4261-ecf0-29ee7954d795"
      },
      "source": [
        "dealer = pd.read_csv('Dealer Info.csv', delimiter = ',')\n",
        "dealer.head()"
      ],
      "execution_count": 8,
      "outputs": [
        {
          "output_type": "execute_result",
          "data": {
            "text/html": [
              "<div>\n",
              "<style scoped>\n",
              "    .dataframe tbody tr th:only-of-type {\n",
              "        vertical-align: middle;\n",
              "    }\n",
              "\n",
              "    .dataframe tbody tr th {\n",
              "        vertical-align: top;\n",
              "    }\n",
              "\n",
              "    .dataframe thead th {\n",
              "        text-align: right;\n",
              "    }\n",
              "</style>\n",
              "<table border=\"1\" class=\"dataframe\">\n",
              "  <thead>\n",
              "    <tr style=\"text-align: right;\">\n",
              "      <th></th>\n",
              "      <th>Dealer ID</th>\n",
              "      <th>Company Name</th>\n",
              "      <th>Contact Name</th>\n",
              "      <th>Phone Number</th>\n",
              "      <th>Postal</th>\n",
              "      <th>State</th>\n",
              "      <th>City</th>\n",
              "      <th>Address</th>\n",
              "      <th>Unnamed: 8</th>\n",
              "      <th>Unnamed: 9</th>\n",
              "    </tr>\n",
              "  </thead>\n",
              "  <tbody>\n",
              "    <tr>\n",
              "      <th>0</th>\n",
              "      <td>1</td>\n",
              "      <td>Kota Ming Auto Repairers Sdn Bhd</td>\n",
              "      <td>Foo Chit Keong</td>\n",
              "      <td>012-3333381</td>\n",
              "      <td>46050</td>\n",
              "      <td>Selangor</td>\n",
              "      <td>Petaling Jaya</td>\n",
              "      <td>No .4, Jalan 51/200A, Seksyen 51</td>\n",
              "      <td>NaN</td>\n",
              "      <td>NaN</td>\n",
              "    </tr>\n",
              "    <tr>\n",
              "      <th>1</th>\n",
              "      <td>2</td>\n",
              "      <td>Sunshine Paint &amp; Workshop Sdn Bhd</td>\n",
              "      <td>Ms Mok</td>\n",
              "      <td>012-9207672 / 018-3832266</td>\n",
              "      <td>46100</td>\n",
              "      <td>Selangor</td>\n",
              "      <td>Petaling Jaya</td>\n",
              "      <td>Lot 6, Jalan 227, Seksyen 51A</td>\n",
              "      <td>NaN</td>\n",
              "      <td>NaN</td>\n",
              "    </tr>\n",
              "    <tr>\n",
              "      <th>2</th>\n",
              "      <td>3</td>\n",
              "      <td>Eng Lee Workshop &amp; Spray Center Sdn Bhd</td>\n",
              "      <td>Hong Tan</td>\n",
              "      <td>016-9099377</td>\n",
              "      <td>42100</td>\n",
              "      <td>Selangor</td>\n",
              "      <td>Klang</td>\n",
              "      <td>Lot 1954, Jalan Sungai Putus, Kampung Batu Belah</td>\n",
              "      <td>NaN</td>\n",
              "      <td>NaN</td>\n",
              "    </tr>\n",
              "    <tr>\n",
              "      <th>3</th>\n",
              "      <td>4</td>\n",
              "      <td>Super Hi-Shine Sdn Bhd</td>\n",
              "      <td>Hong Tan</td>\n",
              "      <td>016-9099377</td>\n",
              "      <td>41400</td>\n",
              "      <td>Selangor</td>\n",
              "      <td>Klang</td>\n",
              "      <td>Lot 6046A, Jalan Kapar, Batu 5</td>\n",
              "      <td>NaN</td>\n",
              "      <td>NaN</td>\n",
              "    </tr>\n",
              "    <tr>\n",
              "      <th>4</th>\n",
              "      <td>5</td>\n",
              "      <td>Atlas Auto Spares</td>\n",
              "      <td>Jayden Lim</td>\n",
              "      <td>016-7198789</td>\n",
              "      <td>40200</td>\n",
              "      <td>Selangor</td>\n",
              "      <td>Shah Alam</td>\n",
              "      <td>28, Jalan Jemuju Empat 16/13D, Section 16</td>\n",
              "      <td>NaN</td>\n",
              "      <td>NaN</td>\n",
              "    </tr>\n",
              "  </tbody>\n",
              "</table>\n",
              "</div>"
            ],
            "text/plain": [
              "   Dealer ID                             Company Name  ... Unnamed: 8 Unnamed: 9\n",
              "0          1         Kota Ming Auto Repairers Sdn Bhd  ...        NaN        NaN\n",
              "1          2        Sunshine Paint & Workshop Sdn Bhd  ...        NaN        NaN\n",
              "2          3  Eng Lee Workshop & Spray Center Sdn Bhd  ...        NaN        NaN\n",
              "3          4                   Super Hi-Shine Sdn Bhd  ...        NaN        NaN\n",
              "4          5                        Atlas Auto Spares  ...        NaN        NaN\n",
              "\n",
              "[5 rows x 10 columns]"
            ]
          },
          "metadata": {},
          "execution_count": 8
        }
      ]
    },
    {
      "cell_type": "code",
      "metadata": {
        "colab": {
          "base_uri": "https://localhost:8080/"
        },
        "id": "b2z2JJNF23nq",
        "outputId": "45c77709-2cba-49e2-b5ef-b339fb44c7f4"
      },
      "source": [
        "city_count = dealer.groupby('City')['Dealer ID'].nunique()\n",
        "print(\n",
        "    city_count\n",
        "  )"
      ],
      "execution_count": 14,
      "outputs": [
        {
          "output_type": "stream",
          "name": "stdout",
          "text": [
            "City\n",
            "Klang            2\n",
            "Petaling Jaya    2\n",
            "Port Klang       1\n",
            "Shah Alam        2\n",
            "Name: Dealer ID, dtype: int64\n"
          ]
        }
      ]
    }
  ]
}