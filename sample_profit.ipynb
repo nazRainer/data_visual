{
  "nbformat": 4,
  "nbformat_minor": 0,
  "metadata": {
    "colab": {
      "name": "sample profit.ipynb",
      "provenance": [],
      "collapsed_sections": [],
      "authorship_tag": "ABX9TyPNijwEjx1qpbDmG2p5OvEL",
      "include_colab_link": true
    },
    "kernelspec": {
      "name": "python3",
      "display_name": "Python 3"
    },
    "language_info": {
      "name": "python"
    }
  },
  "cells": [
    {
      "cell_type": "markdown",
      "metadata": {
        "id": "view-in-github",
        "colab_type": "text"
      },
      "source": [
        "<a href=\"https://colab.research.google.com/github/nazRainer/data_visual/blob/main/sample_profit.ipynb\" target=\"_parent\"><img src=\"https://colab.research.google.com/assets/colab-badge.svg\" alt=\"Open In Colab\"/></a>"
      ]
    },
    {
      "cell_type": "code",
      "metadata": {
        "id": "YI3sP0yXRxE5"
      },
      "source": [
        "from matplotlib import pyplot as plt"
      ],
      "execution_count": null,
      "outputs": []
    },
    {
      "cell_type": "code",
      "metadata": {
        "id": "u9nUK_jGSIYv"
      },
      "source": [
        "from matplotlib import pyplot as plt"
      ],
      "execution_count": 1,
      "outputs": []
    },
    {
      "cell_type": "code",
      "metadata": {
        "id": "TZ9ZA9srSLWM"
      },
      "source": [
        "import pandas as pd"
      ],
      "execution_count": 2,
      "outputs": []
    },
    {
      "cell_type": "code",
      "metadata": {
        "id": "FWDz4wO1SNT1"
      },
      "source": [
        "import re"
      ],
      "execution_count": 3,
      "outputs": []
    },
    {
      "cell_type": "code",
      "metadata": {
        "id": "XV8MiTSISPOq"
      },
      "source": [
        "import networkx as nx"
      ],
      "execution_count": 4,
      "outputs": []
    },
    {
      "cell_type": "code",
      "metadata": {
        "id": "jETx0NbqSR4y"
      },
      "source": [
        "from itertools import combinations"
      ],
      "execution_count": 5,
      "outputs": []
    },
    {
      "cell_type": "code",
      "metadata": {
        "id": "mgobYfDPSf3K"
      },
      "source": [
        "df = pd.read_csv(\"Profit-and-Loss-Statement.csv\")"
      ],
      "execution_count": 6,
      "outputs": []
    },
    {
      "cell_type": "code",
      "metadata": {
        "colab": {
          "base_uri": "https://localhost:8080/",
          "height": 204
        },
        "id": "c9V6jTCzSn5p",
        "outputId": "d98553f8-e4d6-42b9-91e1-7931c68c5864"
      },
      "source": [
        "df.head()"
      ],
      "execution_count": 7,
      "outputs": [
        {
          "output_type": "execute_result",
          "data": {
            "text/html": [
              "<div>\n",
              "<style scoped>\n",
              "    .dataframe tbody tr th:only-of-type {\n",
              "        vertical-align: middle;\n",
              "    }\n",
              "\n",
              "    .dataframe tbody tr th {\n",
              "        vertical-align: top;\n",
              "    }\n",
              "\n",
              "    .dataframe thead th {\n",
              "        text-align: right;\n",
              "    }\n",
              "</style>\n",
              "<table border=\"1\" class=\"dataframe\">\n",
              "  <thead>\n",
              "    <tr style=\"text-align: right;\">\n",
              "      <th></th>\n",
              "      <th>Unnamed: 0</th>\n",
              "      <th>JAN</th>\n",
              "      <th>FEB</th>\n",
              "      <th>MAR</th>\n",
              "      <th>APR</th>\n",
              "      <th>MAY</th>\n",
              "      <th>JUN</th>\n",
              "      <th>JUL</th>\n",
              "      <th>AUG</th>\n",
              "      <th>SEP</th>\n",
              "      <th>OCT</th>\n",
              "      <th>NOV</th>\n",
              "      <th>DEC</th>\n",
              "      <th>Full Year</th>\n",
              "    </tr>\n",
              "  </thead>\n",
              "  <tbody>\n",
              "    <tr>\n",
              "      <th>0</th>\n",
              "      <td>Revenue stream 1</td>\n",
              "      <td>587.0</td>\n",
              "      <td>596.3</td>\n",
              "      <td>605.8</td>\n",
              "      <td>615.4</td>\n",
              "      <td>625.2</td>\n",
              "      <td>635.1</td>\n",
              "      <td>645.2</td>\n",
              "      <td>655.4</td>\n",
              "      <td>665.8</td>\n",
              "      <td>676.4</td>\n",
              "      <td>687.1</td>\n",
              "      <td>698.0</td>\n",
              "      <td>7,692.6</td>\n",
              "    </tr>\n",
              "    <tr>\n",
              "      <th>1</th>\n",
              "      <td>Revenue stream 2</td>\n",
              "      <td>145.6</td>\n",
              "      <td>147.9</td>\n",
              "      <td>150.2</td>\n",
              "      <td>152.6</td>\n",
              "      <td>155.0</td>\n",
              "      <td>157.5</td>\n",
              "      <td>160.0</td>\n",
              "      <td>162.5</td>\n",
              "      <td>165.1</td>\n",
              "      <td>167.7</td>\n",
              "      <td>170.4</td>\n",
              "      <td>173.1</td>\n",
              "      <td>1,907.8</td>\n",
              "    </tr>\n",
              "    <tr>\n",
              "      <th>2</th>\n",
              "      <td>Returns, Refunds, Discounts</td>\n",
              "      <td>(21.0)</td>\n",
              "      <td>(21.3)</td>\n",
              "      <td>(21.7)</td>\n",
              "      <td>(22.0)</td>\n",
              "      <td>(22.4)</td>\n",
              "      <td>(22.7)</td>\n",
              "      <td>(23.1)</td>\n",
              "      <td>(23.5)</td>\n",
              "      <td>(23.8)</td>\n",
              "      <td>(24.2)</td>\n",
              "      <td>(24.6)</td>\n",
              "      <td>(25.0)</td>\n",
              "      <td>(275.3)</td>\n",
              "    </tr>\n",
              "    <tr>\n",
              "      <th>3</th>\n",
              "      <td>Total Net Revenue</td>\n",
              "      <td>711.6</td>\n",
              "      <td>722.9</td>\n",
              "      <td>734.3</td>\n",
              "      <td>746.0</td>\n",
              "      <td>757.8</td>\n",
              "      <td>769.9</td>\n",
              "      <td>782.1</td>\n",
              "      <td>794.5</td>\n",
              "      <td>807.1</td>\n",
              "      <td>819.9</td>\n",
              "      <td>832.9</td>\n",
              "      <td>846.1</td>\n",
              "      <td>9,325.0</td>\n",
              "    </tr>\n",
              "    <tr>\n",
              "      <th>4</th>\n",
              "      <td>Cost of Goods Sold</td>\n",
              "      <td>269.6</td>\n",
              "      <td>273.9</td>\n",
              "      <td>278.2</td>\n",
              "      <td>282.7</td>\n",
              "      <td>287.1</td>\n",
              "      <td>291.7</td>\n",
              "      <td>296.3</td>\n",
              "      <td>301.0</td>\n",
              "      <td>305.8</td>\n",
              "      <td>310.7</td>\n",
              "      <td>315.6</td>\n",
              "      <td>320.6</td>\n",
              "      <td>3,533.2</td>\n",
              "    </tr>\n",
              "  </tbody>\n",
              "</table>\n",
              "</div>"
            ],
            "text/plain": [
              "                    Unnamed: 0      JAN      FEB  ...      NOV      DEC  Full Year\n",
              "0             Revenue stream 1   587.0    596.3   ...   687.1    698.0    7,692.6 \n",
              "1             Revenue stream 2   145.6    147.9   ...   170.4    173.1    1,907.8 \n",
              "2  Returns, Refunds, Discounts   (21.0)   (21.3)  ...   (24.6)   (25.0)    (275.3)\n",
              "3            Total Net Revenue   711.6    722.9   ...   832.9    846.1    9,325.0 \n",
              "4           Cost of Goods Sold   269.6    273.9   ...   315.6    320.6    3,533.2 \n",
              "\n",
              "[5 rows x 14 columns]"
            ]
          },
          "metadata": {},
          "execution_count": 7
        }
      ]
    }
  ]
}