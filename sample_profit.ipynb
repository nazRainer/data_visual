{
  "nbformat": 4,
  "nbformat_minor": 0,
  "metadata": {
    "colab": {
      "name": "sample profit.ipynb",
      "provenance": [],
      "collapsed_sections": [],
      "authorship_tag": "ABX9TyMJ2pSjMxijKV/eTQP4xaot",
      "include_colab_link": true
    },
    "kernelspec": {
      "name": "python3",
      "display_name": "Python 3"
    },
    "language_info": {
      "name": "python"
    }
  },
  "cells": [
    {
      "cell_type": "markdown",
      "metadata": {
        "id": "view-in-github",
        "colab_type": "text"
      },
      "source": [
        "<a href=\"https://colab.research.google.com/github/nazRainer/data_visual/blob/main/sample_profit.ipynb\" target=\"_parent\"><img src=\"https://colab.research.google.com/assets/colab-badge.svg\" alt=\"Open In Colab\"/></a>"
      ]
    },
    {
      "cell_type": "markdown",
      "metadata": {
        "id": "1c3qNqwUYVz-"
      },
      "source": [
        "**Profit Data Sample**"
      ]
    },
    {
      "cell_type": "code",
      "metadata": {
        "id": "u9nUK_jGSIYv"
      },
      "source": [
        "from matplotlib import pyplot as plt"
      ],
      "execution_count": 31,
      "outputs": []
    },
    {
      "cell_type": "markdown",
      "metadata": {
        "id": "01Fam4mUY0Vt"
      },
      "source": [
        "for creating figure"
      ]
    },
    {
      "cell_type": "code",
      "metadata": {
        "id": "BN0eYpnrWtGa"
      },
      "source": [
        "import tensorflow as tf"
      ],
      "execution_count": 11,
      "outputs": []
    },
    {
      "cell_type": "markdown",
      "metadata": {
        "id": "xfumLcgbY6MJ"
      },
      "source": [
        "decorator function- converts regular python code to a callable Tensorflow graph function"
      ]
    },
    {
      "cell_type": "code",
      "metadata": {
        "id": "TZ9ZA9srSLWM"
      },
      "source": [
        "import pandas as pd"
      ],
      "execution_count": 30,
      "outputs": []
    },
    {
      "cell_type": "markdown",
      "metadata": {
        "id": "07PFJLIuZJI8"
      },
      "source": [
        "data science/data analysis and machine learning task"
      ]
    },
    {
      "cell_type": "code",
      "metadata": {
        "id": "eDJb_bItW7Hm"
      },
      "source": [
        "import numpy as np"
      ],
      "execution_count": 12,
      "outputs": []
    },
    {
      "cell_type": "markdown",
      "metadata": {
        "id": "oc9VA-98ZL0J"
      },
      "source": [
        "provides support for multi-dimensional arrays"
      ]
    },
    {
      "cell_type": "code",
      "metadata": {
        "id": "FWDz4wO1SNT1"
      },
      "source": [
        "import re"
      ],
      "execution_count": 3,
      "outputs": []
    },
    {
      "cell_type": "markdown",
      "metadata": {
        "id": "tUmAngxbZUtZ"
      },
      "source": [
        "regular expression (or RE) specifies a set of strings"
      ]
    },
    {
      "cell_type": "code",
      "metadata": {
        "id": "BRrCcAOxUHz6"
      },
      "source": [
        "from IPython.display import HTML"
      ],
      "execution_count": 9,
      "outputs": []
    },
    {
      "cell_type": "markdown",
      "metadata": {
        "id": "b6v8-s9nZanb"
      },
      "source": [
        "Create a video object given raw data or an URL"
      ]
    },
    {
      "cell_type": "code",
      "metadata": {
        "id": "XV8MiTSISPOq"
      },
      "source": [
        "import networkx as nx"
      ],
      "execution_count": 4,
      "outputs": []
    },
    {
      "cell_type": "markdown",
      "metadata": {
        "id": "yzTHDCo6Ziv6"
      },
      "source": [
        "creation, manipulation, and study of the structure, dynamics, and function of complex networks"
      ]
    },
    {
      "cell_type": "code",
      "metadata": {
        "id": "jETx0NbqSR4y"
      },
      "source": [
        "from itertools import combinations"
      ],
      "execution_count": 5,
      "outputs": []
    },
    {
      "cell_type": "markdown",
      "metadata": {
        "id": "lo4BvNVPZnIa"
      },
      "source": [
        "iterate over data structures that can be stepped over using a for-loop."
      ]
    },
    {
      "cell_type": "code",
      "metadata": {
        "id": "bZm9YSiBXH-n"
      },
      "source": [
        "import torch"
      ],
      "execution_count": 21,
      "outputs": []
    },
    {
      "cell_type": "code",
      "metadata": {
        "id": "oVZVXKgtUJBx"
      },
      "source": [
        "import json"
      ],
      "execution_count": 10,
      "outputs": []
    },
    {
      "cell_type": "code",
      "metadata": {
        "id": "vgotuYL9UL87"
      },
      "source": [
        "import gym"
      ],
      "execution_count": 18,
      "outputs": []
    },
    {
      "cell_type": "code",
      "metadata": {
        "id": "mgobYfDPSf3K"
      },
      "source": [
        "df = pd.read_csv(\"profit-loss.csv\")"
      ],
      "execution_count": 26,
      "outputs": []
    },
    {
      "cell_type": "code",
      "metadata": {
        "colab": {
          "base_uri": "https://localhost:8080/",
          "height": 213
        },
        "id": "zacIXLVUcIHe",
        "outputId": "3478cfd7-9f22-46bf-8d7c-0f1d456de082"
      },
      "source": [
        "df.head()"
      ],
      "execution_count": 28,
      "outputs": [
        {
          "output_type": "execute_result",
          "data": {
            "text/html": [
              "<div>\n",
              "<style scoped>\n",
              "    .dataframe tbody tr th:only-of-type {\n",
              "        vertical-align: middle;\n",
              "    }\n",
              "\n",
              "    .dataframe tbody tr th {\n",
              "        vertical-align: top;\n",
              "    }\n",
              "\n",
              "    .dataframe thead th {\n",
              "        text-align: right;\n",
              "    }\n",
              "</style>\n",
              "<table border=\"1\" class=\"dataframe\">\n",
              "  <thead>\n",
              "    <tr style=\"text-align: right;\">\n",
              "      <th></th>\n",
              "      <th>SPEND</th>\n",
              "      <th>JAN</th>\n",
              "      <th>FEB</th>\n",
              "      <th>MAR</th>\n",
              "      <th>APR</th>\n",
              "      <th>MAY</th>\n",
              "      <th>JUN</th>\n",
              "      <th>JUL</th>\n",
              "      <th>AUG</th>\n",
              "      <th>SEP</th>\n",
              "      <th>OCT</th>\n",
              "      <th>NOV</th>\n",
              "      <th>DEC</th>\n",
              "    </tr>\n",
              "  </thead>\n",
              "  <tbody>\n",
              "    <tr>\n",
              "      <th>0</th>\n",
              "      <td>Gross Profit</td>\n",
              "      <td>442.0</td>\n",
              "      <td>449.0</td>\n",
              "      <td>456.1</td>\n",
              "      <td>463.3</td>\n",
              "      <td>470.7</td>\n",
              "      <td>478.2</td>\n",
              "      <td>485.7</td>\n",
              "      <td>493.5</td>\n",
              "      <td>501.3</td>\n",
              "      <td>509.2</td>\n",
              "      <td>517.3</td>\n",
              "      <td>525.5</td>\n",
              "    </tr>\n",
              "    <tr>\n",
              "      <th>1</th>\n",
              "      <td>Total Expenses</td>\n",
              "      <td>403.0</td>\n",
              "      <td>411.0</td>\n",
              "      <td>419.2</td>\n",
              "      <td>427.5</td>\n",
              "      <td>436.0</td>\n",
              "      <td>444.7</td>\n",
              "      <td>453.5</td>\n",
              "      <td>462.5</td>\n",
              "      <td>471.7</td>\n",
              "      <td>481.1</td>\n",
              "      <td>490.6</td>\n",
              "      <td>500.4</td>\n",
              "    </tr>\n",
              "    <tr>\n",
              "      <th>2</th>\n",
              "      <td>Net Earnings</td>\n",
              "      <td>25.5</td>\n",
              "      <td>24.8</td>\n",
              "      <td>24.1</td>\n",
              "      <td>23.3</td>\n",
              "      <td>22.5</td>\n",
              "      <td>21.7</td>\n",
              "      <td>20.8</td>\n",
              "      <td>19.9</td>\n",
              "      <td>19.0</td>\n",
              "      <td>18.0</td>\n",
              "      <td>16.9</td>\n",
              "      <td>15.9</td>\n",
              "    </tr>\n",
              "  </tbody>\n",
              "</table>\n",
              "</div>"
            ],
            "text/plain": [
              "            SPEND    JAN    FEB    MAR  ...    SEP    OCT    NOV    DEC\n",
              "0    Gross Profit  442.0  449.0  456.1  ...  501.3  509.2  517.3  525.5\n",
              "1  Total Expenses  403.0  411.0  419.2  ...  471.7  481.1  490.6  500.4\n",
              "2    Net Earnings   25.5   24.8   24.1  ...   19.0   18.0   16.9   15.9\n",
              "\n",
              "[3 rows x 13 columns]"
            ]
          },
          "metadata": {},
          "execution_count": 28
        }
      ]
    },
    {
      "cell_type": "code",
      "metadata": {
        "id": "JmXlq20Ocj7d"
      },
      "source": [
        ""
      ],
      "execution_count": null,
      "outputs": []
    }
  ]
}