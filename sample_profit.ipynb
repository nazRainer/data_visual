{
  "nbformat": 4,
  "nbformat_minor": 0,
  "metadata": {
    "colab": {
      "name": "sample profit.ipynb",
      "provenance": [],
      "collapsed_sections": [],
      "authorship_tag": "ABX9TyO75FcT0Kg/GZGrnccf/ewI",
      "include_colab_link": true
    },
    "kernelspec": {
      "name": "python3",
      "display_name": "Python 3"
    },
    "language_info": {
      "name": "python"
    }
  },
  "cells": [
    {
      "cell_type": "markdown",
      "metadata": {
        "id": "view-in-github",
        "colab_type": "text"
      },
      "source": [
        "<a href=\"https://colab.research.google.com/github/nazRainer/data_visual/blob/main/sample_profit.ipynb\" target=\"_parent\"><img src=\"https://colab.research.google.com/assets/colab-badge.svg\" alt=\"Open In Colab\"/></a>"
      ]
    },
    {
      "cell_type": "markdown",
      "metadata": {
        "id": "1c3qNqwUYVz-"
      },
      "source": [
        "**Profit Data Sample**"
      ]
    },
    {
      "cell_type": "code",
      "metadata": {
        "colab": {
          "base_uri": "https://localhost:8080/",
          "height": 295
        },
        "id": "ovDUSy44dwKP",
        "outputId": "6182f274-6f35-4bd4-f714-9dd8a515354c"
      },
      "source": [
        "import pandas as pd\n",
        "from matplotlib import pyplot as plt\n",
        "\n",
        "data = pd.read_csv('profit-loss.csv')\n",
        "\n",
        "month = data['Month']\n",
        "profit = data['Gross Profit']\n",
        "expense = data['Total Expenses']\n",
        "net = data['Net Earnings']\n",
        "\n",
        "plt.plot(month, profit, label = 'Gross Profit')\n",
        "plt.plot(month, expense, label = 'Total Expenses')\n",
        "plt.plot(month, net, label = 'Net Earnings')\n",
        "\n",
        "plt.legend()\n",
        "plt.title('Monthly Profit and Loss Data')\n",
        "plt.ylabel('Spending (million)')\n",
        "plt.xlabel('Month')\n",
        "\n",
        "plt.savefig(\"plot.png\")\n",
        "\n",
        "plt.show()"
      ],
      "execution_count": 49,
      "outputs": [
        {
          "output_type": "display_data",
          "data": {
            "image/png": "[encoded data removed]",
            "text/plain": [
              "<Figure size 432x288 with 1 Axes>"
            ]
          },
          "metadata": {
            "needs_background": "light"
          }
        }
      ]
    },
    {
      "cell_type": "code",
      "metadata": {
        "colab": {
          "base_uri": "https://localhost:8080/",
          "height": 213
        },
        "id": "lAX3KE6QeGh8",
        "outputId": "82c2abdb-367c-4818-f426-607ad021eed3"
      },
      "source": [
        "data.head()"
      ],
      "execution_count": 37,
      "outputs": [
        {
          "output_type": "execute_result",
          "data": {
            "text/html": [
              "<div>\n",
              "<style scoped>\n",
              "    .dataframe tbody tr th:only-of-type {\n",
              "        vertical-align: middle;\n",
              "    }\n",
              "\n",
              "    .dataframe tbody tr th {\n",
              "        vertical-align: top;\n",
              "    }\n",
              "\n",
              "    .dataframe thead th {\n",
              "        text-align: right;\n",
              "    }\n",
              "</style>\n",
              "<table border=\"1\" class=\"dataframe\">\n",
              "  <thead>\n",
              "    <tr style=\"text-align: right;\">\n",
              "      <th></th>\n",
              "      <th>SPEND</th>\n",
              "      <th>JAN</th>\n",
              "      <th>FEB</th>\n",
              "      <th>MAR</th>\n",
              "      <th>APR</th>\n",
              "      <th>MAY</th>\n",
              "      <th>JUN</th>\n",
              "      <th>JUL</th>\n",
              "      <th>AUG</th>\n",
              "      <th>SEP</th>\n",
              "      <th>OCT</th>\n",
              "      <th>NOV</th>\n",
              "      <th>DEC</th>\n",
              "    </tr>\n",
              "  </thead>\n",
              "  <tbody>\n",
              "    <tr>\n",
              "      <th>0</th>\n",
              "      <td>Gross Profit</td>\n",
              "      <td>442.0</td>\n",
              "      <td>449.0</td>\n",
              "      <td>456.1</td>\n",
              "      <td>463.3</td>\n",
              "      <td>470.7</td>\n",
              "      <td>478.2</td>\n",
              "      <td>485.7</td>\n",
              "      <td>493.5</td>\n",
              "      <td>501.3</td>\n",
              "      <td>509.2</td>\n",
              "      <td>517.3</td>\n",
              "      <td>525.5</td>\n",
              "    </tr>\n",
              "    <tr>\n",
              "      <th>1</th>\n",
              "      <td>Total Expenses</td>\n",
              "      <td>403.0</td>\n",
              "      <td>411.0</td>\n",
              "      <td>419.2</td>\n",
              "      <td>427.5</td>\n",
              "      <td>436.0</td>\n",
              "      <td>444.7</td>\n",
              "      <td>453.5</td>\n",
              "      <td>462.5</td>\n",
              "      <td>471.7</td>\n",
              "      <td>481.1</td>\n",
              "      <td>490.6</td>\n",
              "      <td>500.4</td>\n",
              "    </tr>\n",
              "    <tr>\n",
              "      <th>2</th>\n",
              "      <td>Net Earnings</td>\n",
              "      <td>25.5</td>\n",
              "      <td>24.8</td>\n",
              "      <td>24.1</td>\n",
              "      <td>23.3</td>\n",
              "      <td>22.5</td>\n",
              "      <td>21.7</td>\n",
              "      <td>20.8</td>\n",
              "      <td>19.9</td>\n",
              "      <td>19.0</td>\n",
              "      <td>18.0</td>\n",
              "      <td>16.9</td>\n",
              "      <td>15.9</td>\n",
              "    </tr>\n",
              "  </tbody>\n",
              "</table>\n",
              "</div>"
            ],
            "text/plain": [
              "            SPEND    JAN    FEB    MAR  ...    SEP    OCT    NOV    DEC\n",
              "0    Gross Profit  442.0  449.0  456.1  ...  501.3  509.2  517.3  525.5\n",
              "1  Total Expenses  403.0  411.0  419.2  ...  471.7  481.1  490.6  500.4\n",
              "2    Net Earnings   25.5   24.8   24.1  ...   19.0   18.0   16.9   15.9\n",
              "\n",
              "[3 rows x 13 columns]"
            ]
          },
          "metadata": {},
          "execution_count": 37
        }
      ]
    },
    {
      "cell_type": "code",
      "metadata": {
        "id": "y0pzPuS3eIQI"
      },
      "source": [
        ""
      ],
      "execution_count": null,
      "outputs": []
    }
  ]
}