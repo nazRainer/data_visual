{
  "nbformat": 4,
  "nbformat_minor": 0,
  "metadata": {
    "colab": {
      "name": "interactive_fig (covid).ipynb",
      "provenance": [],
      "collapsed_sections": [],
      "authorship_tag": "ABX9TyMyFw6p2bgdHKMLaIofy6qO",
      "include_colab_link": true
    },
    "kernelspec": {
      "name": "python3",
      "display_name": "Python 3"
    },
    "language_info": {
      "name": "python"
    }
  },
  "cells": [
    {
      "cell_type": "markdown",
      "metadata": {
        "id": "view-in-github",
        "colab_type": "text"
      },
      "source": [
        "<a href=\"https://colab.research.google.com/github/nazRainer/data_visual/blob/main/interactive_fig_(covid).ipynb\" target=\"_parent\"><img src=\"https://colab.research.google.com/assets/colab-badge.svg\" alt=\"Open In Colab\"/></a>"
      ]
    },
    {
      "cell_type": "code",
      "metadata": {
        "colab": {
          "base_uri": "https://localhost:8080/",
          "height": 1000
        },
        "id": "XaBjsW0_qOdo",
        "outputId": "8a2334c7-f82f-4f42-8d24-f621132d3f03"
      },
      "source": [
        "!pip install pandas\n",
        "!pip install plotly\n",
        "!pip install dash\n",
        "!pip install dash_bootstrap_components"
      ],
      "execution_count": 4,
      "outputs": [
        {
          "output_type": "stream",
          "name": "stdout",
          "text": [
            "Requirement already satisfied: pandas in /usr/local/lib/python3.7/dist-packages (1.1.5)\n",
            "Requirement already satisfied: numpy>=1.15.4 in /usr/local/lib/python3.7/dist-packages (from pandas) (1.19.5)\n",
            "Requirement already satisfied: python-dateutil>=2.7.3 in /usr/local/lib/python3.7/dist-packages (from pandas) (2.8.2)\n",
            "Requirement already satisfied: pytz>=2017.2 in /usr/local/lib/python3.7/dist-packages (from pandas) (2018.9)\n",
            "Requirement already satisfied: six>=1.5 in /usr/local/lib/python3.7/dist-packages (from python-dateutil>=2.7.3->pandas) (1.15.0)\n",
            "Requirement already satisfied: plotly in /usr/local/lib/python3.7/dist-packages (4.4.1)\n",
            "Requirement already satisfied: six in /usr/local/lib/python3.7/dist-packages (from plotly) (1.15.0)\n",
            "Requirement already satisfied: retrying>=1.3.3 in /usr/local/lib/python3.7/dist-packages (from plotly) (1.3.3)\n",
            "Collecting dash\n",
            "  Downloading dash-2.0.0-py3-none-any.whl (7.3 MB)\n",
            "\u001b[K     |████████████████████████████████| 7.3 MB 7.1 MB/s \n",
            "\u001b[?25hCollecting dash-core-components==2.0.0\n",
            "  Downloading dash_core_components-2.0.0.tar.gz (3.4 kB)\n",
            "Collecting plotly>=5.0.0\n",
            "  Downloading plotly-5.3.1-py2.py3-none-any.whl (23.9 MB)\n",
            "\u001b[K     |████████████████████████████████| 23.9 MB 13 kB/s \n",
            "\u001b[?25hCollecting dash-html-components==2.0.0\n",
            "  Downloading dash_html_components-2.0.0.tar.gz (3.8 kB)\n",
            "Collecting flask-compress\n",
            "  Downloading Flask_Compress-1.10.1-py3-none-any.whl (7.9 kB)\n",
            "Requirement already satisfied: Flask>=1.0.4 in /usr/local/lib/python3.7/dist-packages (from dash) (1.1.4)\n",
            "Collecting dash-table==5.0.0\n",
            "  Downloading dash_table-5.0.0.tar.gz (3.4 kB)\n",
            "Requirement already satisfied: itsdangerous<2.0,>=0.24 in /usr/local/lib/python3.7/dist-packages (from Flask>=1.0.4->dash) (1.1.0)\n",
            "Requirement already satisfied: click<8.0,>=5.1 in /usr/local/lib/python3.7/dist-packages (from Flask>=1.0.4->dash) (7.1.2)\n",
            "Requirement already satisfied: Werkzeug<2.0,>=0.15 in /usr/local/lib/python3.7/dist-packages (from Flask>=1.0.4->dash) (1.0.1)\n",
            "Requirement already satisfied: Jinja2<3.0,>=2.10.1 in /usr/local/lib/python3.7/dist-packages (from Flask>=1.0.4->dash) (2.11.3)\n",
            "Requirement already satisfied: MarkupSafe>=0.23 in /usr/local/lib/python3.7/dist-packages (from Jinja2<3.0,>=2.10.1->Flask>=1.0.4->dash) (2.0.1)\n",
            "Collecting tenacity>=6.2.0\n",
            "  Downloading tenacity-8.0.1-py3-none-any.whl (24 kB)\n",
            "Requirement already satisfied: six in /usr/local/lib/python3.7/dist-packages (from plotly>=5.0.0->dash) (1.15.0)\n",
            "Collecting brotli\n",
            "  Downloading Brotli-1.0.9-cp37-cp37m-manylinux1_x86_64.whl (357 kB)\n",
            "\u001b[K     |████████████████████████████████| 357 kB 55.5 MB/s \n",
            "\u001b[?25hBuilding wheels for collected packages: dash-core-components, dash-html-components, dash-table\n",
            "  Building wheel for dash-core-components (setup.py) ... \u001b[?25l\u001b[?25hdone\n",
            "  Created wheel for dash-core-components: filename=dash_core_components-2.0.0-py3-none-any.whl size=3821 sha256=993ce65146e17f0cf316834ebabd8b0e04e19ce1771b9c8230e4ea8f84ada1a4\n",
            "  Stored in directory: /root/.cache/pip/wheels/00/f9/c7/1a6437d794ed753ea9bc9079e761d4fc803a1f1f5d3697b9ec\n",
            "  Building wheel for dash-html-components (setup.py) ... \u001b[?25l\u001b[?25hdone\n",
            "  Created wheel for dash-html-components: filename=dash_html_components-2.0.0-py3-none-any.whl size=4089 sha256=d62a7e4a8f1e0c6170e91c47a3697e55c07b187ac9183cb5af1660c054c862fa\n",
            "  Stored in directory: /root/.cache/pip/wheels/ec/6b/81/05aceabd8b27f724e2c96784016287cc1bfbc349ebfda451de\n",
            "  Building wheel for dash-table (setup.py) ... \u001b[?25l\u001b[?25hdone\n",
            "  Created wheel for dash-table: filename=dash_table-5.0.0-py3-none-any.whl size=3911 sha256=bc24438af3b72c9bde90e21c5d2a3f00b81aa3ca28c790d29981f90a148bfeb3\n",
            "  Stored in directory: /root/.cache/pip/wheels/85/5d/4e/7c276b57992951dbe770bf5caad6448d0539c510663aefd2e2\n",
            "Successfully built dash-core-components dash-html-components dash-table\n",
            "Installing collected packages: tenacity, brotli, plotly, flask-compress, dash-table, dash-html-components, dash-core-components, dash\n",
            "  Attempting uninstall: plotly\n",
            "    Found existing installation: plotly 4.4.1\n",
            "    Uninstalling plotly-4.4.1:\n",
            "      Successfully uninstalled plotly-4.4.1\n",
            "Successfully installed brotli-1.0.9 dash-2.0.0 dash-core-components-2.0.0 dash-html-components-2.0.0 dash-table-5.0.0 flask-compress-1.10.1 plotly-5.3.1 tenacity-8.0.1\n"
          ]
        },
        {
          "output_type": "display_data",
          "data": {
            "application/vnd.colab-display-data+json": {
              "pip_warning": {
                "packages": [
                  "_plotly_utils",
                  "plotly"
                ]
              }
            }
          },
          "metadata": {}
        },
        {
          "output_type": "stream",
          "name": "stdout",
          "text": [
            "Collecting dash_bootstrap_components\n",
            "  Downloading dash_bootstrap_components-0.13.0-py3-none-any.whl (197 kB)\n",
            "\u001b[?25l\r\u001b[K     |█▋                              | 10 kB 23.5 MB/s eta 0:00:01\r\u001b[K     |███▎                            | 20 kB 30.9 MB/s eta 0:00:01\r\u001b[K     |█████                           | 30 kB 23.2 MB/s eta 0:00:01\r\u001b[K     |██████▋                         | 40 kB 18.5 MB/s eta 0:00:01\r\u001b[K     |████████▎                       | 51 kB 7.3 MB/s eta 0:00:01\r\u001b[K     |██████████                      | 61 kB 7.7 MB/s eta 0:00:01\r\u001b[K     |███████████▋                    | 71 kB 6.7 MB/s eta 0:00:01\r\u001b[K     |█████████████▎                  | 81 kB 7.5 MB/s eta 0:00:01\r\u001b[K     |███████████████                 | 92 kB 7.6 MB/s eta 0:00:01\r\u001b[K     |████████████████▋               | 102 kB 6.8 MB/s eta 0:00:01\r\u001b[K     |██████████████████▎             | 112 kB 6.8 MB/s eta 0:00:01\r\u001b[K     |████████████████████            | 122 kB 6.8 MB/s eta 0:00:01\r\u001b[K     |█████████████████████▋          | 133 kB 6.8 MB/s eta 0:00:01\r\u001b[K     |███████████████████████▎        | 143 kB 6.8 MB/s eta 0:00:01\r\u001b[K     |█████████████████████████       | 153 kB 6.8 MB/s eta 0:00:01\r\u001b[K     |██████████████████████████▌     | 163 kB 6.8 MB/s eta 0:00:01\r\u001b[K     |████████████████████████████▏   | 174 kB 6.8 MB/s eta 0:00:01\r\u001b[K     |█████████████████████████████▉  | 184 kB 6.8 MB/s eta 0:00:01\r\u001b[K     |███████████████████████████████▌| 194 kB 6.8 MB/s eta 0:00:01\r\u001b[K     |████████████████████████████████| 197 kB 6.8 MB/s \n",
            "\u001b[?25hRequirement already satisfied: dash>=1.9.0 in /usr/local/lib/python3.7/dist-packages (from dash_bootstrap_components) (2.0.0)\n",
            "Requirement already satisfied: dash-table==5.0.0 in /usr/local/lib/python3.7/dist-packages (from dash>=1.9.0->dash_bootstrap_components) (5.0.0)\n",
            "Requirement already satisfied: Flask>=1.0.4 in /usr/local/lib/python3.7/dist-packages (from dash>=1.9.0->dash_bootstrap_components) (1.1.4)\n",
            "Requirement already satisfied: plotly>=5.0.0 in /usr/local/lib/python3.7/dist-packages (from dash>=1.9.0->dash_bootstrap_components) (5.3.1)\n",
            "Requirement already satisfied: dash-html-components==2.0.0 in /usr/local/lib/python3.7/dist-packages (from dash>=1.9.0->dash_bootstrap_components) (2.0.0)\n",
            "Requirement already satisfied: dash-core-components==2.0.0 in /usr/local/lib/python3.7/dist-packages (from dash>=1.9.0->dash_bootstrap_components) (2.0.0)\n",
            "Requirement already satisfied: flask-compress in /usr/local/lib/python3.7/dist-packages (from dash>=1.9.0->dash_bootstrap_components) (1.10.1)\n",
            "Requirement already satisfied: click<8.0,>=5.1 in /usr/local/lib/python3.7/dist-packages (from Flask>=1.0.4->dash>=1.9.0->dash_bootstrap_components) (7.1.2)\n",
            "Requirement already satisfied: itsdangerous<2.0,>=0.24 in /usr/local/lib/python3.7/dist-packages (from Flask>=1.0.4->dash>=1.9.0->dash_bootstrap_components) (1.1.0)\n",
            "Requirement already satisfied: Werkzeug<2.0,>=0.15 in /usr/local/lib/python3.7/dist-packages (from Flask>=1.0.4->dash>=1.9.0->dash_bootstrap_components) (1.0.1)\n",
            "Requirement already satisfied: Jinja2<3.0,>=2.10.1 in /usr/local/lib/python3.7/dist-packages (from Flask>=1.0.4->dash>=1.9.0->dash_bootstrap_components) (2.11.3)\n",
            "Requirement already satisfied: MarkupSafe>=0.23 in /usr/local/lib/python3.7/dist-packages (from Jinja2<3.0,>=2.10.1->Flask>=1.0.4->dash>=1.9.0->dash_bootstrap_components) (2.0.1)\n",
            "Requirement already satisfied: tenacity>=6.2.0 in /usr/local/lib/python3.7/dist-packages (from plotly>=5.0.0->dash>=1.9.0->dash_bootstrap_components) (8.0.1)\n",
            "Requirement already satisfied: six in /usr/local/lib/python3.7/dist-packages (from plotly>=5.0.0->dash>=1.9.0->dash_bootstrap_components) (1.15.0)\n",
            "Requirement already satisfied: brotli in /usr/local/lib/python3.7/dist-packages (from flask-compress->dash>=1.9.0->dash_bootstrap_components) (1.0.9)\n",
            "Installing collected packages: dash-bootstrap-components\n",
            "Successfully installed dash-bootstrap-components-0.13.0\n"
          ]
        }
      ]
    },
    {
      "cell_type": "code",
      "metadata": {
        "colab": {
          "base_uri": "https://localhost:8080/"
        },
        "id": "yl0QukFoWjub",
        "outputId": "ba28f592-7d97-4655-9488-f62fadee9f7f"
      },
      "source": [
        "import pandas as pd\n",
        "pd.set_option('max_rows',20)\n",
        "import plotly.express as px\n",
        "import plotly.io as pio\n",
        "pio.renderers.default = \"browser\"\n",
        "import dash\n",
        "from dash.dependencies import Input, Output\n",
        "import dash_core_components as dcc\n",
        "import dash_html_components as html\n",
        "import dash_bootstrap_components as dbc"
      ],
      "execution_count": 5,
      "outputs": [
        {
          "output_type": "stream",
          "name": "stderr",
          "text": [
            "/usr/local/lib/python3.7/dist-packages/ipykernel_launcher.py:8: UserWarning:\n",
            "\n",
            "\n",
            "The dash_core_components package is deprecated. Please replace\n",
            "`import dash_core_components as dcc` with `from dash import dcc`\n",
            "\n",
            "/usr/local/lib/python3.7/dist-packages/ipykernel_launcher.py:9: UserWarning:\n",
            "\n",
            "\n",
            "The dash_html_components package is deprecated. Please replace\n",
            "`import dash_html_components as html` with `from dash import html`\n",
            "\n"
          ]
        }
      ]
    },
    {
      "cell_type": "code",
      "metadata": {
        "id": "KdtgnJnrqNOk"
      },
      "source": [
        "CONF_URL = 'https://raw.githubusercontent.com/CSSEGISandData/COVID-19/master/csse_covid_19_data/csse_covid_19_time_series/time_series_covid19_confirmed_global.csv'\n",
        "DEAD_URL = 'https://raw.githubusercontent.com/CSSEGISandData/COVID-19/master/csse_covid_19_data/csse_covid_19_time_series/time_series_covid19_deaths_global.csv'\n",
        "RECV_URL = 'https://raw.githubusercontent.com/CSSEGISandData/COVID-19/master/csse_covid_19_data/csse_covid_19_time_series/time_series_covid19_recovered_global.csv'\n",
        "covid_conf_ts = pd.read_csv(CONF_URL)\n",
        "covid_dead_ts = pd.read_csv(DEAD_URL)\n",
        "covid_recv_ts = pd.read_csv(RECV_URL)"
      ],
      "execution_count": 7,
      "outputs": []
    },
    {
      "cell_type": "code",
      "metadata": {
        "colab": {
          "base_uri": "https://localhost:8080/"
        },
        "id": "xpoeJLzPqhjs",
        "outputId": "acc19c0b-141b-4e3d-d1a8-61c17211d9e5"
      },
      "source": [
        "#get data in cleaned time series format for country\n",
        "def process_data(data,cntry='Malaysia',window=3):\n",
        "    conf_ts = data\n",
        "    conf_ts_cntry = conf_ts[conf_ts['Country/Region']==cntry]\n",
        "    final_dataset = conf_ts_cntry.T[4:].sum(axis='columns').diff().rolling(window=window).mean()[40:]\n",
        "    df = pd.DataFrame(final_dataset,columns=['Total'])\n",
        "    return df\n",
        "\n",
        "#get overall wordlwide total for confirmed, recovered and dead cases\n",
        "def get_overall_total(df):\n",
        "    return df.iloc[:,-1].sum()\n",
        "\n",
        "conf_overall_total = get_overall_total(covid_conf_ts)\n",
        "dead_overall_total = get_overall_total(covid_dead_ts)\n",
        "recv_overall_total = get_overall_total(covid_recv_ts)\n",
        "print('Overall Confirmed:',conf_overall_total)\n",
        "print('Overall Dead:',dead_overall_total)\n",
        "print('Overall Recovered:',recv_overall_total)\n",
        "\n",
        "#get total for confirmed, recovered and dead for country \n",
        "def get_cntry_total(df,cntry='Malaysia'):\n",
        "    return df[df['Country/Region']==cntry].iloc[:,-1].sum()\n",
        "\n",
        "cntry = 'Malaysia'\n",
        "conf_cntry_total = get_cntry_total(covid_conf_ts,cntry)\n",
        "dead_cntry_total = get_cntry_total(covid_dead_ts,cntry)\n",
        "recv_cntry_total = get_cntry_total(covid_recv_ts,cntry)\n",
        "print(f'{cntry} Confirmed:',conf_cntry_total)\n",
        "print(f'{cntry} Dead:',dead_cntry_total)\n",
        "print(f'{cntry} Recovered:',recv_cntry_total)"
      ],
      "execution_count": 8,
      "outputs": [
        {
          "output_type": "stream",
          "name": "stdout",
          "text": [
            "Overall Confirmed: 221932892\n",
            "Overall Dead: 4586161\n",
            "Overall Recovered: 0\n",
            "Malaysia Confirmed: 1880734\n",
            "Malaysia Dead: 18802\n",
            "Malaysia Recovered: 0\n"
          ]
        }
      ]
    },
    {
      "cell_type": "code",
      "metadata": {
        "id": "e_KZjUbircN1"
      },
      "source": [
        "def fig_world_trend(cntry='US',window=3):\n",
        "    df = process_data(data=covid_conf_ts,cntry=cntry,window=window)\n",
        "    df.head(10)\n",
        "    if window==1:\n",
        "        yaxis_title = \"Daily Cases\"\n",
        "    else:\n",
        "        yaxis_title = \"Daily Cases ({}-day MA)\".format(window)\n",
        "    fig = px.line(df, y='Total', x=df.index, title='Daily confirmed cases trend for {}'.format(cntry),height=600,color_discrete_sequence =['maroon'])\n",
        "    fig.update_layout(title_x=0.5,plot_bgcolor='#F2DFCE',paper_bgcolor='#F2DFCE',xaxis_title=\"Date\",yaxis_title=yaxis_title)\n",
        "    return fig\n",
        "\n",
        "    external_stylesheets = [dbc.themes.BOOTSTRAP]\n",
        "\n",
        "    app = dash.Dash(__name__, external_stylesheets=external_stylesheets)\n",
        "    app.title = 'Covid-19 Dashboard'"
      ],
      "execution_count": 10,
      "outputs": []
    },
    {
      "cell_type": "code",
      "metadata": {
        "id": "LkO5FNPqrieZ"
      },
      "source": [
        "colors = {\n",
        "    'background': '#111111',\n",
        "    'bodyColor':'#F2DFCE',\n",
        "    'text': '#7FDBFF'\n",
        "}\n",
        "def get_page_heading_style():\n",
        "    return {'backgroundColor': colors['background']}\n",
        "\n",
        "\n",
        "def get_page_heading_title():\n",
        "    return html.H1(children='COVID-19 Dashboard',\n",
        "                                        style={\n",
        "                                        'textAlign': 'center',\n",
        "                                        'color': colors['text']\n",
        "                                    })\n",
        "\n",
        "def get_page_heading_subtitle():\n",
        "    return html.Div(children='Visualize Covid-19 data generated from sources all over the world.',\n",
        "                                         style={\n",
        "                                             'textAlign':'center',\n",
        "                                             'color':colors['text']\n",
        "                                         })\n",
        "\n",
        "def generate_page_header():\n",
        "    main_header =  dbc.Row(\n",
        "                            [\n",
        "                                dbc.Col(get_page_heading_title(),md=12)\n",
        "                            ],\n",
        "                            align=\"center\",\n",
        "                            style=get_page_heading_style()\n",
        "                        )\n",
        "    subtitle_header = dbc.Row(\n",
        "                            [\n",
        "                                dbc.Col(get_page_heading_subtitle(),md=12)\n",
        "                            ],\n",
        "                            align=\"center\",\n",
        "                            style=get_page_heading_style()\n",
        "                        )\n",
        "    header = (main_header,subtitle_header)\n",
        "    return header"
      ],
      "execution_count": 12,
      "outputs": []
    },
    {
      "cell_type": "code",
      "metadata": {
        "id": "VCogE3Torl8_"
      },
      "source": [
        "def get_country_list():\n",
        "    return covid_conf_ts['Country/Region'].unique()\n",
        "\n",
        "def create_dropdown_list(cntry_list):\n",
        "    dropdown_list = []\n",
        "    for cntry in sorted(cntry_list):\n",
        "        tmp_dict = {'label':cntry,'value':cntry}\n",
        "        dropdown_list.append(tmp_dict)\n",
        "    return dropdown_list\n",
        "\n",
        "def get_country_dropdown(id):\n",
        "    return html.Div([\n",
        "                        html.Label('Select Country'),\n",
        "                        dcc.Dropdown(id='my-id'+str(id),\n",
        "                            options=create_dropdown_list(get_country_list()),\n",
        "                            value='US'\n",
        "                        ),\n",
        "                        html.Div(id='my-div'+str(id))\n",
        "                    ])"
      ],
      "execution_count": 13,
      "outputs": []
    },
    {
      "cell_type": "code",
      "metadata": {
        "id": "vtqn2TOIrof3"
      },
      "source": [
        "def graph1():\n",
        "    return dcc.Graph(id='graph1',figure=fig_world_trend('Malaysia'))"
      ],
      "execution_count": 14,
      "outputs": []
    },
    {
      "cell_type": "code",
      "metadata": {
        "id": "RvQPulMUrv9E"
      },
      "source": [
        "def generate_card_content(card_header,card_value,overall_value):\n",
        "    card_head_style = {'textAlign':'center','fontSize':'150%'}\n",
        "    card_body_style = {'textAlign':'center','fontSize':'200%'}\n",
        "    card_header = dbc.CardHeader(card_header,style=card_head_style)\n",
        "    card_body = dbc.CardBody(\n",
        "        [\n",
        "            html.H5(f\"{int(card_value):,}\", className=\"card-title\",style=card_body_style),\n",
        "            html.P(\n",
        "                \"Worlwide: {:,}\".format(overall_value),\n",
        "                className=\"card-text\",style={'textAlign':'center'}\n",
        "            ),\n",
        "        ]\n",
        "    )\n",
        "    card = [card_header,card_body]\n",
        "    return card\n",
        "\n",
        "    def generate_cards(cntry='Malaysia'):\n",
        "      conf_cntry_total = get_cntry_total(covid_conf_ts,cntry)\n",
        "      dead_cntry_total = get_cntry_total(covid_dead_ts,cntry)\n",
        "      recv_cntry_total = get_cntry_total(covid_recv_ts,cntry)\n",
        "      cards = html.Div(\n",
        "        [\n",
        "            dbc.Row(\n",
        "                [\n",
        "                    dbc.Col(dbc.Card(generate_card_content(\"Recovered\",recv_cntry_total,recv_overall_total), color=\"success\", inverse=True),md=dict(size=2,offset=3)),\n",
        "                    dbc.Col(dbc.Card(generate_card_content(\"Confirmed\",conf_cntry_total,conf_overall_total), color=\"warning\", inverse=True),md=dict(size=2)),\n",
        "                    dbc.Col(dbc.Card(generate_card_content(\"Dead\",dead_cntry_total,dead_overall_total),color=\"dark\", inverse=True),md=dict(size=2)),\n",
        "                ],\n",
        "                className=\"mb-4\",\n",
        "            ),\n",
        "        ],id='card1'\n",
        "    )\n",
        "    return cards"
      ],
      "execution_count": 16,
      "outputs": []
    },
    {
      "cell_type": "code",
      "metadata": {
        "id": "GRZ7JTNjr1_l"
      },
      "source": [
        "def get_slider():\n",
        "    return html.Div([  \n",
        "                        dcc.Slider(\n",
        "                            id='my-slider',\n",
        "                            min=1,\n",
        "                            max=15,\n",
        "                            step=None,\n",
        "                            marks={\n",
        "                                1: '1',\n",
        "                                3: '3',\n",
        "                                5: '5',\n",
        "                                7: '1-Week',\n",
        "                                14: 'Fortnight'\n",
        "                            },\n",
        "                            value=3,\n",
        "                        ),\n",
        "                        html.Div([html.Label('Select Moving Average Window')],id='my-div'+str(id),style={'textAlign':'center'})\n",
        "                    ])"
      ],
      "execution_count": 17,
      "outputs": []
    },
    {
      "cell_type": "code",
      "metadata": {
        "id": "b_qSxprEsACX"
      },
      "source": [
        "def generate_layout():\n",
        "    page_header = generate_page_header()\n",
        "    layout = dbc.Container(\n",
        "        [\n",
        "            page_header[0],\n",
        "            page_header[1],\n",
        "            html.Hr(),\n",
        "            generate_cards(),\n",
        "            html.Hr(),\n",
        "            dbc.Row(\n",
        "                [\n",
        "                    dbc.Col(get_country_dropdown(id=1),md=dict(size=4,offset=4))                    \n",
        "                ]\n",
        "            \n",
        "            ),\n",
        "            dbc.Row(\n",
        "                [                \n",
        "                    \n",
        "                    dbc.Col(graph1(),md=dict(size=6,offset=3))\n",
        "        \n",
        "                ],\n",
        "                align=\"center\",\n",
        "\n",
        "            ),\n",
        "            dbc.Row(\n",
        "                [\n",
        "                    dbc.Col(get_slider(),md=dict(size=4,offset=4))                    \n",
        "                ]\n",
        "            \n",
        "            ),\n",
        "        ],fluid=True,style={'backgroundColor': colors['bodyColor']}\n",
        "    )\n",
        "    return layout\n",
        "\n",
        "    app.layout = generate_layout()"
      ],
      "execution_count": 18,
      "outputs": []
    },
    {
      "cell_type": "code",
      "metadata": {
        "colab": {
          "base_uri": "https://localhost:8080/",
          "height": 231
        },
        "id": "lA0JSNltsDgy",
        "outputId": "4f1b9047-34ee-4405-dd25-320308fd447b"
      },
      "source": [
        "@app.callback(\n",
        "    [Output(component_id='graph1',component_property='figure'), #line chart\n",
        "    Output(component_id='card1',component_property='children')], #overall card numbers\n",
        "    [Input(component_id='my-id1',component_property='value'), #dropdown\n",
        "     Input(component_id='my-slider',component_property='value')] #slider\n",
        ")\n",
        "def update_output_div(input_value1,input_value2):\n",
        "    return fig_world_trend(input_value1,input_value2),generate_cards(input_value1)"
      ],
      "execution_count": 19,
      "outputs": [
        {
          "output_type": "error",
          "ename": "NameError",
          "evalue": "ignored",
          "traceback": [
            "\u001b[0;31m---------------------------------------------------------------------------\u001b[0m",
            "\u001b[0;31mNameError\u001b[0m                                 Traceback (most recent call last)",
            "\u001b[0;32m<ipython-input-19-8e5558c25c16>\u001b[0m in \u001b[0;36m<module>\u001b[0;34m()\u001b[0m\n\u001b[0;32m----> 1\u001b[0;31m @app.callback(\n\u001b[0m\u001b[1;32m      2\u001b[0m     [Output(component_id='graph1',component_property='figure'), #line chart\n\u001b[1;32m      3\u001b[0m     Output(component_id='card1',component_property='children')], #overall card numbers\n\u001b[1;32m      4\u001b[0m     [Input(component_id='my-id1',component_property='value'), #dropdown\n\u001b[1;32m      5\u001b[0m      Input(component_id='my-slider',component_property='value')] #slider\n",
            "\u001b[0;31mNameError\u001b[0m: name 'app' is not defined"
          ]
        }
      ]
    },
    {
      "cell_type": "code",
      "metadata": {
        "colab": {
          "base_uri": "https://localhost:8080/",
          "height": 163
        },
        "id": "t6rAJBTfsKD6",
        "outputId": "de05e9f3-4fbc-4dce-c711-b449a4a77f15"
      },
      "source": [
        "app.run_server(host= '0.0.0.0',debug=False)"
      ],
      "execution_count": 20,
      "outputs": [
        {
          "output_type": "error",
          "ename": "NameError",
          "evalue": "ignored",
          "traceback": [
            "\u001b[0;31m---------------------------------------------------------------------------\u001b[0m",
            "\u001b[0;31mNameError\u001b[0m                                 Traceback (most recent call last)",
            "\u001b[0;32m<ipython-input-20-cf533c087d19>\u001b[0m in \u001b[0;36m<module>\u001b[0;34m()\u001b[0m\n\u001b[0;32m----> 1\u001b[0;31m \u001b[0mapp\u001b[0m\u001b[0;34m.\u001b[0m\u001b[0mrun_server\u001b[0m\u001b[0;34m(\u001b[0m\u001b[0mhost\u001b[0m\u001b[0;34m=\u001b[0m \u001b[0;34m'0.0.0.0'\u001b[0m\u001b[0;34m,\u001b[0m\u001b[0mdebug\u001b[0m\u001b[0;34m=\u001b[0m\u001b[0;32mFalse\u001b[0m\u001b[0;34m)\u001b[0m\u001b[0;34m\u001b[0m\u001b[0;34m\u001b[0m\u001b[0m\n\u001b[0m",
            "\u001b[0;31mNameError\u001b[0m: name 'app' is not defined"
          ]
        }
      ]
    }
  ]
}